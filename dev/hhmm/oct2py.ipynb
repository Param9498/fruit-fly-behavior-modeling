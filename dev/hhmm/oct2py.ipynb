{
 "cells": [
  {
   "cell_type": "code",
   "execution_count": 3,
   "metadata": {},
   "outputs": [
    {
     "name": "stdout",
     "output_type": "stream",
     "text": [
      "Collecting package metadata (current_repodata.json): done\n",
      "Solving environment: done\n",
      "\n",
      "\n",
      "==> WARNING: A newer version of conda exists. <==\n",
      "  current version: 4.8.4\n",
      "  latest version: 4.9.2\n",
      "\n",
      "Please update conda by running\n",
      "\n",
      "    $ conda update -n base -c defaults conda\n",
      "\n",
      "\n",
      "\n",
      "## Package Plan ##\n",
      "\n",
      "  environment location: /usr/local/anaconda3/envs/pTSA\n",
      "\n",
      "  added / updated specs:\n",
      "    - oct2py\n",
      "\n",
      "\n",
      "The following packages will be downloaded:\n",
      "\n",
      "    package                    |            build\n",
      "    ---------------------------|-----------------\n",
      "    certifi-2020.11.8          |   py38h50d1736_0         150 KB  conda-forge\n",
      "    ipyparallel-6.3.0          |   py38h32f6830_1         317 KB  conda-forge\n",
      "    metakernel-0.27.5          |     pyhd3deb0d_0         180 KB  conda-forge\n",
      "    oct2py-5.2.0               |     pyh9f0ad1d_0          37 KB  conda-forge\n",
      "    octave_kernel-0.32.0       |     pyh9f0ad1d_0          29 KB  conda-forge\n",
      "    openssl-1.1.1h             |       haf1e3a3_0         1.9 MB  conda-forge\n",
      "    portalocker-1.7.0          |   py38h32f6830_1          19 KB  conda-forge\n",
      "    ------------------------------------------------------------\n",
      "                                           Total:         2.6 MB\n",
      "\n",
      "The following NEW packages will be INSTALLED:\n",
      "\n",
      "  ipyparallel        conda-forge/osx-64::ipyparallel-6.3.0-py38h32f6830_1\n",
      "  metakernel         conda-forge/noarch::metakernel-0.27.5-pyhd3deb0d_0\n",
      "  oct2py             conda-forge/noarch::oct2py-5.2.0-pyh9f0ad1d_0\n",
      "  octave_kernel      conda-forge/noarch::octave_kernel-0.32.0-pyh9f0ad1d_0\n",
      "  portalocker        conda-forge/osx-64::portalocker-1.7.0-py38h32f6830_1\n",
      "\n",
      "The following packages will be UPDATED:\n",
      "\n",
      "  ca-certificates    pkgs/main::ca-certificates-2020.10.14~ --> conda-forge::ca-certificates-2020.11.8-h033912b_0\n",
      "  certifi            pkgs/main/noarch::certifi-2020.6.20-p~ --> conda-forge/osx-64::certifi-2020.11.8-py38h50d1736_0\n",
      "\n",
      "The following packages will be SUPERSEDED by a higher-priority channel:\n",
      "\n",
      "  openssl                                         pkgs/main --> conda-forge\n",
      "\n",
      "\n",
      "\n",
      "Downloading and Extracting Packages\n",
      "oct2py-5.2.0         | 37 KB     | ##################################### | 100% \n",
      "ipyparallel-6.3.0    | 317 KB    | ##################################### | 100% \n",
      "openssl-1.1.1h       | 1.9 MB    | ##################################### | 100% \n",
      "portalocker-1.7.0    | 19 KB     | ##################################### | 100% \n",
      "metakernel-0.27.5    | 180 KB    | ##################################### | 100% \n",
      "octave_kernel-0.32.0 | 29 KB     | ##################################### | 100% \n",
      "certifi-2020.11.8    | 150 KB    | ##################################### | 100% \n",
      "Preparing transaction: done\n",
      "Verifying transaction: done\n",
      "Executing transaction: done\n"
     ]
    }
   ],
   "source": [
    "#this is how I installed oct2py to my computer\n",
    "#does not work for collab\n",
    "import sys\n",
    "!conda install -c conda-forge oct2py --yes"
   ]
  },
  {
   "cell_type": "code",
   "execution_count": 5,
   "metadata": {},
   "outputs": [],
   "source": [
    "#you have to download Octave onto your computer for this to work\n",
    "#https://www.gnu.org/software/octave/index\n",
    "from oct2py import octave"
   ]
  },
  {
   "cell_type": "code",
   "execution_count": 8,
   "metadata": {},
   "outputs": [
    {
     "name": "stdout",
     "output_type": "stream",
     "text": [
      "warning: function HHMM/Model generation/+dists/+expfam/gamma.m shadows a built-in function\n",
      "warning: called from\n",
      "    _pyeval at line 57 column 30\n",
      "\n",
      "warning: function HHMM/Model generation/+dists/+expfam/gamma.m shadows a built-in function\n",
      "warning: called from\n",
      "    _pyeval at line 57 column 30\n",
      "\n"
     ]
    },
    {
     "data": {
      "text/plain": [
       "'.:HHMM:/usr/local/anaconda3/envs/pTSA/lib/python3.8/site-packages/oct2py:/usr/local/anaconda3/envs/pTSA/lib/python3.8/site-packages/octave_kernel:/usr/local/Cellar/octave/6.1.0/share/octave/site/m:/usr/local/Cellar/octave/6.1.0/share/octave/site/m/startup:/usr/local/Cellar/octave/6.1.0/lib/octave/6.1.0/oct/x86_64-apple-darwin19.6.0:/usr/local/Cellar/octave/6.1.0/share/octave/6.1.0/m:/usr/local/Cellar/octave/6.1.0/share/octave/6.1.0/m/audio:/usr/local/Cellar/octave/6.1.0/share/octave/6.1.0/m/deprecated:/usr/local/Cellar/octave/6.1.0/share/octave/6.1.0/m/elfun:/usr/local/Cellar/octave/6.1.0/share/octave/6.1.0/m/general:/usr/local/Cellar/octave/6.1.0/share/octave/6.1.0/m/geometry:/usr/local/Cellar/octave/6.1.0/share/octave/6.1.0/m/gui:/usr/local/Cellar/octave/6.1.0/share/octave/6.1.0/m/help:/usr/local/Cellar/octave/6.1.0/share/octave/6.1.0/m/image:/usr/local/Cellar/octave/6.1.0/share/octave/6.1.0/m/io:/usr/local/Cellar/octave/6.1.0/share/octave/6.1.0/m/java:/usr/local/Cellar/octave/6.1.0/share/octave/6.1.0/m/legacy:/usr/local/Cellar/octave/6.1.0/share/octave/6.1.0/m/linear-algebra:/usr/local/Cellar/octave/6.1.0/share/octave/6.1.0/m/miscellaneous:/usr/local/Cellar/octave/6.1.0/share/octave/6.1.0/m/ode:/usr/local/Cellar/octave/6.1.0/share/octave/6.1.0/m/optimization:/usr/local/Cellar/octave/6.1.0/share/octave/6.1.0/m/path:/usr/local/Cellar/octave/6.1.0/share/octave/6.1.0/m/pkg:/usr/local/Cellar/octave/6.1.0/share/octave/6.1.0/m/plot:/usr/local/Cellar/octave/6.1.0/share/octave/6.1.0/m/plot/appearance:/usr/local/Cellar/octave/6.1.0/share/octave/6.1.0/m/plot/draw:/usr/local/Cellar/octave/6.1.0/share/octave/6.1.0/m/plot/util:/usr/local/Cellar/octave/6.1.0/share/octave/6.1.0/m/polynomial:/usr/local/Cellar/octave/6.1.0/share/octave/6.1.0/m/prefs:/usr/local/Cellar/octave/6.1.0/share/octave/6.1.0/m/profiler:/usr/local/Cellar/octave/6.1.0/share/octave/6.1.0/m/set:/usr/local/Cellar/octave/6.1.0/share/octave/6.1.0/m/signal:/usr/local/Cellar/octave/6.1.0/share/octave/6.1.0/m/sparse:/usr/local/Cellar/octave/6.1.0/share/octave/6.1.0/m/specfun:/usr/local/Cellar/octave/6.1.0/share/octave/6.1.0/m/special-matrix:/usr/local/Cellar/octave/6.1.0/share/octave/6.1.0/m/startup:/usr/local/Cellar/octave/6.1.0/share/octave/6.1.0/m/statistics:/usr/local/Cellar/octave/6.1.0/share/octave/6.1.0/m/strings:/usr/local/Cellar/octave/6.1.0/share/octave/6.1.0/m/testfun:/usr/local/Cellar/octave/6.1.0/share/octave/6.1.0/m/time:/usr/local/Cellar/octave/6.1.0/share/octave/6.1.0/m/web:/usr/local/Cellar/octave/6.1.0/share/octave/6.1.0/data'"
      ]
     },
     "execution_count": 8,
     "metadata": {},
     "output_type": "execute_result"
    }
   ],
   "source": [
    "octave.addpath('./HHMM/Model generation')"
   ]
  },
  {
   "cell_type": "code",
   "execution_count": 9,
   "metadata": {},
   "outputs": [
    {
     "name": "stdout",
     "output_type": "stream",
     "text": [
      "warning: function HHMM/Model generation/+dists/+expfam/gamma.m shadows a built-in function\n",
      "warning: function HHMM/Model generation/+dists/+expfam/gamma.m shadows a built-in function\n",
      "warning: function HHMM/Model generation/+dists/+expfam/gamma.m shadows a built-in function\n",
      "warning: function HHMM/Model generation/+dists/+expfam/gamma.m shadows a built-in function\n",
      "warning: called from\n",
      "    HMM at line 23 column 22\n",
      "    _pyeval at line 70 column 30\n",
      "\n"
     ]
    },
    {
     "ename": "Oct2PyError",
     "evalue": "Octave evaluation error:\nerror: 'dim' undefined near line 23, column 23\nerror: called from:\n    HMM at line 23, column 22",
     "output_type": "error",
     "traceback": [
      "\u001b[0;31m---------------------------------------------------------------------------\u001b[0m",
      "\u001b[0;31mOct2PyError\u001b[0m                               Traceback (most recent call last)",
      "\u001b[0;32m<ipython-input-9-1ec7fd7aa63a>\u001b[0m in \u001b[0;36m<module>\u001b[0;34m\u001b[0m\n\u001b[0;32m----> 1\u001b[0;31m \u001b[0mHMM\u001b[0m\u001b[0;34m=\u001b[0m\u001b[0moctave\u001b[0m\u001b[0;34m.\u001b[0m\u001b[0mHMM\u001b[0m\u001b[0;34m(\u001b[0m\u001b[0;34m)\u001b[0m\u001b[0;34m\u001b[0m\u001b[0;34m\u001b[0m\u001b[0m\n\u001b[0m",
      "\u001b[0;32m/usr/local/anaconda3/envs/pTSA/lib/python3.8/site-packages/oct2py/dynamic.py\u001b[0m in \u001b[0;36m__call__\u001b[0;34m(self, *inputs, **kwargs)\u001b[0m\n\u001b[1;32m     94\u001b[0m                         for item in pair)\n\u001b[1;32m     95\u001b[0m \u001b[0;34m\u001b[0m\u001b[0m\n\u001b[0;32m---> 96\u001b[0;31m         \u001b[0;32mreturn\u001b[0m \u001b[0mself\u001b[0m\u001b[0;34m.\u001b[0m\u001b[0m_ref\u001b[0m\u001b[0;34m(\u001b[0m\u001b[0;34m)\u001b[0m\u001b[0;34m.\u001b[0m\u001b[0mfeval\u001b[0m\u001b[0;34m(\u001b[0m\u001b[0mself\u001b[0m\u001b[0;34m.\u001b[0m\u001b[0mname\u001b[0m\u001b[0;34m,\u001b[0m \u001b[0;34m*\u001b[0m\u001b[0minputs\u001b[0m\u001b[0;34m,\u001b[0m \u001b[0;34m**\u001b[0m\u001b[0mkwargs\u001b[0m\u001b[0;34m)\u001b[0m\u001b[0;34m\u001b[0m\u001b[0;34m\u001b[0m\u001b[0m\n\u001b[0m\u001b[1;32m     97\u001b[0m \u001b[0;34m\u001b[0m\u001b[0m\n\u001b[1;32m     98\u001b[0m     \u001b[0;32mdef\u001b[0m \u001b[0m__repr__\u001b[0m\u001b[0;34m(\u001b[0m\u001b[0mself\u001b[0m\u001b[0;34m)\u001b[0m\u001b[0;34m:\u001b[0m\u001b[0;34m\u001b[0m\u001b[0;34m\u001b[0m\u001b[0m\n",
      "\u001b[0;32m/usr/local/anaconda3/envs/pTSA/lib/python3.8/site-packages/oct2py/core.py\u001b[0m in \u001b[0;36mfeval\u001b[0;34m(self, func_path, *func_args, **kwargs)\u001b[0m\n\u001b[1;32m    378\u001b[0m             \u001b[0mstream_handler\u001b[0m \u001b[0;34m=\u001b[0m \u001b[0mself\u001b[0m\u001b[0;34m.\u001b[0m\u001b[0mlogger\u001b[0m\u001b[0;34m.\u001b[0m\u001b[0minfo\u001b[0m \u001b[0;32mif\u001b[0m \u001b[0mverbose\u001b[0m \u001b[0;32melse\u001b[0m \u001b[0mself\u001b[0m\u001b[0;34m.\u001b[0m\u001b[0mlogger\u001b[0m\u001b[0;34m.\u001b[0m\u001b[0mdebug\u001b[0m\u001b[0;34m\u001b[0m\u001b[0;34m\u001b[0m\u001b[0m\n\u001b[1;32m    379\u001b[0m \u001b[0;34m\u001b[0m\u001b[0m\n\u001b[0;32m--> 380\u001b[0;31m         return self._feval(func_name, func_args, dname=dname, nout=nout,\n\u001b[0m\u001b[1;32m    381\u001b[0m                           \u001b[0mtimeout\u001b[0m\u001b[0;34m=\u001b[0m\u001b[0mtimeout\u001b[0m\u001b[0;34m,\u001b[0m \u001b[0mstream_handler\u001b[0m\u001b[0;34m=\u001b[0m\u001b[0mstream_handler\u001b[0m\u001b[0;34m,\u001b[0m\u001b[0;34m\u001b[0m\u001b[0;34m\u001b[0m\u001b[0m\n\u001b[1;32m    382\u001b[0m                           store_as=store_as, plot_dir=plot_dir)\n",
      "\u001b[0;32m/usr/local/anaconda3/envs/pTSA/lib/python3.8/site-packages/oct2py/core.py\u001b[0m in \u001b[0;36m_feval\u001b[0;34m(self, func_name, func_args, dname, nout, timeout, stream_handler, store_as, plot_dir)\u001b[0m\n\u001b[1;32m    580\u001b[0m         \u001b[0;32mif\u001b[0m \u001b[0mresp\u001b[0m\u001b[0;34m[\u001b[0m\u001b[0;34m'err'\u001b[0m\u001b[0;34m]\u001b[0m\u001b[0;34m:\u001b[0m\u001b[0;34m\u001b[0m\u001b[0;34m\u001b[0m\u001b[0m\n\u001b[1;32m    581\u001b[0m             \u001b[0mmsg\u001b[0m \u001b[0;34m=\u001b[0m \u001b[0mself\u001b[0m\u001b[0;34m.\u001b[0m\u001b[0m_parse_error\u001b[0m\u001b[0;34m(\u001b[0m\u001b[0mresp\u001b[0m\u001b[0;34m[\u001b[0m\u001b[0;34m'err'\u001b[0m\u001b[0;34m]\u001b[0m\u001b[0;34m)\u001b[0m\u001b[0;34m\u001b[0m\u001b[0;34m\u001b[0m\u001b[0m\n\u001b[0;32m--> 582\u001b[0;31m             \u001b[0;32mraise\u001b[0m \u001b[0mOct2PyError\u001b[0m\u001b[0;34m(\u001b[0m\u001b[0mmsg\u001b[0m\u001b[0;34m)\u001b[0m\u001b[0;34m\u001b[0m\u001b[0;34m\u001b[0m\u001b[0m\n\u001b[0m\u001b[1;32m    583\u001b[0m \u001b[0;34m\u001b[0m\u001b[0m\n\u001b[1;32m    584\u001b[0m         \u001b[0mresult\u001b[0m \u001b[0;34m=\u001b[0m \u001b[0mresp\u001b[0m\u001b[0;34m[\u001b[0m\u001b[0;34m'result'\u001b[0m\u001b[0;34m]\u001b[0m\u001b[0;34m.\u001b[0m\u001b[0mravel\u001b[0m\u001b[0;34m(\u001b[0m\u001b[0;34m)\u001b[0m\u001b[0;34m.\u001b[0m\u001b[0mtolist\u001b[0m\u001b[0;34m(\u001b[0m\u001b[0;34m)\u001b[0m\u001b[0;34m\u001b[0m\u001b[0;34m\u001b[0m\u001b[0m\n",
      "\u001b[0;31mOct2PyError\u001b[0m: Octave evaluation error:\nerror: 'dim' undefined near line 23, column 23\nerror: called from:\n    HMM at line 23, column 22"
     ]
    }
   ],
   "source": [
    "HMM=octave.HMM()"
   ]
  },
  {
   "cell_type": "code",
   "execution_count": null,
   "metadata": {},
   "outputs": [],
   "source": []
  }
 ],
 "metadata": {
  "kernelspec": {
   "display_name": "Python 3",
   "language": "python",
   "name": "python3"
  },
  "language_info": {
   "codemirror_mode": {
    "name": "ipython",
    "version": 3
   },
   "file_extension": ".py",
   "mimetype": "text/x-python",
   "name": "python",
   "nbconvert_exporter": "python",
   "pygments_lexer": "ipython3",
   "version": "3.8.5"
  }
 },
 "nbformat": 4,
 "nbformat_minor": 4
}
